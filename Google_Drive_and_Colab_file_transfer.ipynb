{
  "nbformat": 4,
  "nbformat_minor": 0,
  "metadata": {
    "colab": {
      "name": "Google Drive and Colab file transfer.ipynb",
      "provenance": [],
      "collapsed_sections": [],
      "authorship_tag": "ABX9TyPvj/OVJgy4RmXLjCvSKIN+",
      "include_colab_link": true
    },
    "kernelspec": {
      "name": "python3",
      "display_name": "Python 3"
    }
  },
  "cells": [
    {
      "cell_type": "markdown",
      "metadata": {
        "id": "view-in-github",
        "colab_type": "text"
      },
      "source": [
        "<a href=\"https://colab.research.google.com/github/pedroblossbraga/GoogleColabFacilities/blob/main/Google_Drive_and_Colab_file_transfer.ipynb\" target=\"_parent\"><img src=\"https://colab.research.google.com/assets/colab-badge.svg\" alt=\"Open In Colab\"/></a>"
      ]
    },
    {
      "cell_type": "markdown",
      "metadata": {
        "id": "A9q0E0omuwAN"
      },
      "source": [
        "save csv in google drive"
      ]
    },
    {
      "cell_type": "code",
      "metadata": {
        "id": "kcWFyUZpuy4e"
      },
      "source": [
        "## creating csv example\n",
        "\n",
        "import pandas as pd\n",
        "\n",
        "d = {\n",
        "    'Col1': list(range(10)), 'Col2': [i**2 for i in range(10)]\n",
        "}\n",
        "df = pd.DataFrame(\n",
        "    data=d, columns=list(d.keys()),\n",
        "    index = list(\n",
        "        range(\n",
        "            len(\n",
        "                d[\n",
        "                  list(d.keys())[0]\n",
        "                ]\n",
        "            )\n",
        "        )\n",
        "    )\n",
        ")"
      ],
      "execution_count": 1,
      "outputs": []
    },
    {
      "cell_type": "code",
      "metadata": {
        "colab": {
          "base_uri": "https://localhost:8080/"
        },
        "id": "0Qk4opFNuQJi",
        "outputId": "e22e61f1-2865-4e4b-dc25-3251168623af"
      },
      "source": [
        "### save arquive\n",
        "df.to_csv('arq.csv', sep=';', encoding='utf-8', index=False)\n",
        "\n",
        "from google.colab import drive\n",
        "\n",
        "drive.mount('/content/drive') #, force_remount=True)\n",
        "# copy it there\n",
        "!cp arq.csv \"/content/drive/My Drive/\"\n"
      ],
      "execution_count": 2,
      "outputs": [
        {
          "output_type": "stream",
          "text": [
            "Drive already mounted at /content/drive; to attempt to forcibly remount, call drive.mount(\"/content/drive\", force_remount=True).\n"
          ],
          "name": "stdout"
        }
      ]
    },
    {
      "cell_type": "markdown",
      "metadata": {
        "id": "la5AXpd8ut1s"
      },
      "source": [
        "## find file in google drive"
      ]
    },
    {
      "cell_type": "code",
      "metadata": {
        "colab": {
          "base_uri": "https://localhost:8080/"
        },
        "id": "ZuftzNp7upBl",
        "outputId": "e3f6fdee-c472-4d6e-cca7-09442875affc"
      },
      "source": [
        "!pip install -U -q PyDrive\n",
        "from pydrive.auth import GoogleAuth\n",
        "from pydrive.drive import GoogleDrive\n",
        "from google.colab import auth\n",
        "from oauth2client.client import GoogleCredentials\n",
        "auth.authenticate_user()\n",
        "gauth = GoogleAuth()\n",
        "gauth.credentials = GoogleCredentials.get_application_default()\n",
        "drive = GoogleDrive(gauth)\n",
        "\n",
        "## drive da usp\n",
        "\n",
        "# Auto-iterate through all files that matches this query\n",
        "file_list = drive.ListFile({'q': \"'root' in parents and trashed=false\"}).GetList()\n",
        "for file1 in file_list[:5]: # latest 5 files\n",
        "  if 'arq' in file1['title']:\n",
        "    print('title: %s, id: %s' % (file1['title'], file1['id']))\n",
        "    filename = file1['title']\n",
        "    fileid = file1['id']"
      ],
      "execution_count": 3,
      "outputs": [
        {
          "output_type": "stream",
          "text": [
            "title: arq.csv, id: 1q1ogMrDN0hQQIfOsFiIwshBHrhQVmKvn\n"
          ],
          "name": "stdout"
        }
      ]
    },
    {
      "cell_type": "code",
      "metadata": {
        "colab": {
          "base_uri": "https://localhost:8080/",
          "height": 359
        },
        "id": "-XPTDTwhvZFx",
        "outputId": "51b62536-d388-462e-feac-c4cd05d20c6c"
      },
      "source": [
        "downloaded = drive.CreateFile({'id': fileid}) # getting file by google drive ID\n",
        "downloaded.GetContentFile(filename) # getting the content of the file\n",
        "\n",
        "df_fromdrive = pd.read_csv(filename, sep=';')\n",
        "df_fromdrive"
      ],
      "execution_count": 4,
      "outputs": [
        {
          "output_type": "execute_result",
          "data": {
            "text/html": [
              "<div>\n",
              "<style scoped>\n",
              "    .dataframe tbody tr th:only-of-type {\n",
              "        vertical-align: middle;\n",
              "    }\n",
              "\n",
              "    .dataframe tbody tr th {\n",
              "        vertical-align: top;\n",
              "    }\n",
              "\n",
              "    .dataframe thead th {\n",
              "        text-align: right;\n",
              "    }\n",
              "</style>\n",
              "<table border=\"1\" class=\"dataframe\">\n",
              "  <thead>\n",
              "    <tr style=\"text-align: right;\">\n",
              "      <th></th>\n",
              "      <th>Col1</th>\n",
              "      <th>Col2</th>\n",
              "    </tr>\n",
              "  </thead>\n",
              "  <tbody>\n",
              "    <tr>\n",
              "      <th>0</th>\n",
              "      <td>0</td>\n",
              "      <td>0</td>\n",
              "    </tr>\n",
              "    <tr>\n",
              "      <th>1</th>\n",
              "      <td>1</td>\n",
              "      <td>1</td>\n",
              "    </tr>\n",
              "    <tr>\n",
              "      <th>2</th>\n",
              "      <td>2</td>\n",
              "      <td>4</td>\n",
              "    </tr>\n",
              "    <tr>\n",
              "      <th>3</th>\n",
              "      <td>3</td>\n",
              "      <td>9</td>\n",
              "    </tr>\n",
              "    <tr>\n",
              "      <th>4</th>\n",
              "      <td>4</td>\n",
              "      <td>16</td>\n",
              "    </tr>\n",
              "    <tr>\n",
              "      <th>5</th>\n",
              "      <td>5</td>\n",
              "      <td>25</td>\n",
              "    </tr>\n",
              "    <tr>\n",
              "      <th>6</th>\n",
              "      <td>6</td>\n",
              "      <td>36</td>\n",
              "    </tr>\n",
              "    <tr>\n",
              "      <th>7</th>\n",
              "      <td>7</td>\n",
              "      <td>49</td>\n",
              "    </tr>\n",
              "    <tr>\n",
              "      <th>8</th>\n",
              "      <td>8</td>\n",
              "      <td>64</td>\n",
              "    </tr>\n",
              "    <tr>\n",
              "      <th>9</th>\n",
              "      <td>9</td>\n",
              "      <td>81</td>\n",
              "    </tr>\n",
              "  </tbody>\n",
              "</table>\n",
              "</div>"
            ],
            "text/plain": [
              "   Col1  Col2\n",
              "0     0     0\n",
              "1     1     1\n",
              "2     2     4\n",
              "3     3     9\n",
              "4     4    16\n",
              "5     5    25\n",
              "6     6    36\n",
              "7     7    49\n",
              "8     8    64\n",
              "9     9    81"
            ]
          },
          "metadata": {
            "tags": []
          },
          "execution_count": 4
        }
      ]
    }
  ]
}